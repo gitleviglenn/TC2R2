{
 "cells": [
  {
   "cell_type": "code",
   "execution_count": 8,
   "id": "fffa4725",
   "metadata": {},
   "outputs": [],
   "source": [
    "%run Sat_IMG_packages.ipynb\n",
    "import posixpath\n"
   ]
  },
  {
   "cell_type": "markdown",
   "id": "2a39f6c8",
   "metadata": {},
   "source": [
    "### For CPEX-CV we can use goes2go "
   ]
  },
  {
   "cell_type": "code",
   "execution_count": 10,
   "id": "f80a011b",
   "metadata": {},
   "outputs": [],
   "source": [
    "#file I want to save the files to \n",
    "pathout=  '/Users/deliancb/Desktop/Research/All_cases/Data/GOES/noaa-goes16/20220914_case/'\n",
    "#'/Users/deliancb/Desktop/Research/All_cases/Data/GOES'\n",
    "\n",
    "date= '2022-09-14'\n",
    "\n",
    "timestart= ' 09:00:00'\n",
    "timeend= ' 14:59:59'"
   ]
  },
  {
   "cell_type": "code",
   "execution_count": 11,
   "id": "e748aad4",
   "metadata": {},
   "outputs": [
    {
     "name": "stdout",
     "output_type": "stream",
     "text": [
      "📦 Finished downloading [36] files to [/Users/deliancb/Desktop/Research/All_cases/Data/GOES/noaa-goes16/20220914_case/noaa-goes16/ABI-L2-MCMIPF].\n"
     ]
    }
   ],
   "source": [
    "files=goes2go.data.goes_timerange(start= (date+ timestart), end= (date+ timeend), recent=None,\n",
    "                            satellite='noaa-goes16', product='ABI', domain='F', save_dir= pathout)\n",
    "\n",
    "\n",
    "#PosixPath('/p/cwfs/blaylock/data')\n",
    "    "
   ]
  },
  {
   "cell_type": "code",
   "execution_count": null,
   "id": "bd8bef1d",
   "metadata": {},
   "outputs": [],
   "source": []
  }
 ],
 "metadata": {
  "kernelspec": {
   "display_name": "Python 3 (ipykernel)",
   "language": "python",
   "name": "python3"
  },
  "language_info": {
   "codemirror_mode": {
    "name": "ipython",
    "version": 3
   },
   "file_extension": ".py",
   "mimetype": "text/x-python",
   "name": "python",
   "nbconvert_exporter": "python",
   "pygments_lexer": "ipython3",
   "version": "3.12.4"
  }
 },
 "nbformat": 4,
 "nbformat_minor": 5
}
